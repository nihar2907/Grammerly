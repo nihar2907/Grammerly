{
 "cells": [
  {
   "cell_type": "code",
   "execution_count": 1,
   "id": "a9e1ff7c",
   "metadata": {},
   "outputs": [
    {
     "name": "stdout",
     "output_type": "stream",
     "text": [
      "Collecting happytransformer\n",
      "  Downloading happytransformer-2.4.1-py3-none-any.whl (45 kB)\n",
      "     ---------------------------------------- 45.5/45.5 kB 2.2 MB/s eta 0:00:00\n",
      "Requirement already satisfied: tqdm>=4.43 in c:\\users\\nihar\\appdata\\local\\programs\\python\\python310\\lib\\site-packages (from happytransformer) (4.63.0)\n",
      "Requirement already satisfied: transformers>=4.4.0 in c:\\users\\nihar\\appdata\\local\\programs\\python\\python310\\lib\\site-packages (from happytransformer) (4.18.0)\n",
      "Requirement already satisfied: torch>=1.0 in c:\\users\\nihar\\appdata\\local\\programs\\python\\python310\\lib\\site-packages (from happytransformer) (1.11.0)\n",
      "Requirement already satisfied: protobuf in c:\\users\\nihar\\appdata\\local\\programs\\python\\python310\\lib\\site-packages (from happytransformer) (3.20.1)\n",
      "Requirement already satisfied: sentencepiece in c:\\users\\nihar\\appdata\\local\\programs\\python\\python310\\lib\\site-packages (from happytransformer) (0.1.97)\n",
      "Collecting datasets>=1.6.0\n",
      "  Downloading datasets-2.4.0-py3-none-any.whl (365 kB)\n",
      "     ------------------------------------- 365.7/365.7 kB 11.5 MB/s eta 0:00:00\n",
      "Requirement already satisfied: requests>=2.19.0 in c:\\users\\nihar\\appdata\\local\\programs\\python\\python310\\lib\\site-packages (from datasets>=1.6.0->happytransformer) (2.27.1)\n",
      "Collecting dill<0.3.6\n",
      "  Downloading dill-0.3.5.1-py2.py3-none-any.whl (95 kB)\n",
      "     ---------------------------------------- 95.8/95.8 kB ? eta 0:00:00\n",
      "Requirement already satisfied: numpy>=1.17 in c:\\users\\nihar\\appdata\\local\\programs\\python\\python310\\lib\\site-packages (from datasets>=1.6.0->happytransformer) (1.22.1)\n",
      "Collecting aiohttp\n",
      "  Downloading aiohttp-3.8.1-cp310-cp310-win_amd64.whl (555 kB)\n",
      "     ------------------------------------- 555.1/555.1 kB 17.6 MB/s eta 0:00:00\n",
      "Collecting xxhash\n",
      "  Downloading xxhash-3.0.0-cp310-cp310-win_amd64.whl (29 kB)\n",
      "Requirement already satisfied: packaging in c:\\users\\nihar\\appdata\\local\\programs\\python\\python310\\lib\\site-packages (from datasets>=1.6.0->happytransformer) (21.3)\n",
      "Collecting responses<0.19\n",
      "  Downloading responses-0.18.0-py3-none-any.whl (38 kB)\n",
      "Requirement already satisfied: huggingface-hub<1.0.0,>=0.1.0 in c:\\users\\nihar\\appdata\\local\\programs\\python\\python310\\lib\\site-packages (from datasets>=1.6.0->happytransformer) (0.5.1)\n",
      "Requirement already satisfied: pandas in c:\\users\\nihar\\appdata\\local\\programs\\python\\python310\\lib\\site-packages (from datasets>=1.6.0->happytransformer) (1.3.5)\n",
      "Collecting fsspec[http]>=2021.11.1\n",
      "  Using cached fsspec-2022.8.2-py3-none-any.whl (140 kB)\n",
      "Collecting pyarrow>=6.0.0\n",
      "  Downloading pyarrow-9.0.0-cp310-cp310-win_amd64.whl (19.5 MB)\n",
      "     --------------------------------------- 19.5/19.5 MB 21.1 MB/s eta 0:00:00\n",
      "Collecting multiprocess\n",
      "  Downloading multiprocess-0.70.13-py310-none-any.whl (133 kB)\n",
      "     -------------------------------------- 133.1/133.1 kB 4.0 MB/s eta 0:00:00\n",
      "Requirement already satisfied: typing-extensions in c:\\users\\nihar\\appdata\\local\\programs\\python\\python310\\lib\\site-packages (from torch>=1.0->happytransformer) (4.0.1)\n",
      "Requirement already satisfied: colorama in c:\\users\\nihar\\appdata\\local\\programs\\python\\python310\\lib\\site-packages (from tqdm>=4.43->happytransformer) (0.4.4)\n",
      "Requirement already satisfied: filelock in c:\\users\\nihar\\appdata\\local\\programs\\python\\python310\\lib\\site-packages (from transformers>=4.4.0->happytransformer) (3.6.0)\n",
      "Requirement already satisfied: regex!=2019.12.17 in c:\\users\\nihar\\appdata\\local\\programs\\python\\python310\\lib\\site-packages (from transformers>=4.4.0->happytransformer) (2022.3.2)\n",
      "Requirement already satisfied: sacremoses in c:\\users\\nihar\\appdata\\local\\programs\\python\\python310\\lib\\site-packages (from transformers>=4.4.0->happytransformer) (0.0.53)\n",
      "Requirement already satisfied: pyyaml>=5.1 in c:\\users\\nihar\\appdata\\local\\programs\\python\\python310\\lib\\site-packages (from transformers>=4.4.0->happytransformer) (6.0)\n",
      "Requirement already satisfied: tokenizers!=0.11.3,<0.13,>=0.11.1 in c:\\users\\nihar\\appdata\\local\\programs\\python\\python310\\lib\\site-packages (from transformers>=4.4.0->happytransformer) (0.12.1)\n",
      "Requirement already satisfied: attrs>=17.3.0 in c:\\users\\nihar\\appdata\\local\\programs\\python\\python310\\lib\\site-packages (from aiohttp->datasets>=1.6.0->happytransformer) (21.4.0)\n",
      "Collecting yarl<2.0,>=1.0\n",
      "  Downloading yarl-1.8.1-cp310-cp310-win_amd64.whl (55 kB)\n",
      "     ---------------------------------------- 55.9/55.9 kB 2.9 MB/s eta 0:00:00\n",
      "Collecting aiosignal>=1.1.2\n",
      "  Downloading aiosignal-1.2.0-py3-none-any.whl (8.2 kB)\n",
      "Requirement already satisfied: charset-normalizer<3.0,>=2.0 in c:\\users\\nihar\\appdata\\local\\programs\\python\\python310\\lib\\site-packages (from aiohttp->datasets>=1.6.0->happytransformer) (2.0.12)\n",
      "Collecting frozenlist>=1.1.1\n",
      "  Downloading frozenlist-1.3.1-cp310-cp310-win_amd64.whl (33 kB)\n",
      "Collecting async-timeout<5.0,>=4.0.0a3\n",
      "  Downloading async_timeout-4.0.2-py3-none-any.whl (5.8 kB)\n",
      "Collecting multidict<7.0,>=4.5\n",
      "  Downloading multidict-6.0.2-cp310-cp310-win_amd64.whl (27 kB)\n",
      "Requirement already satisfied: pyparsing!=3.0.5,>=2.0.2 in c:\\users\\nihar\\appdata\\local\\programs\\python\\python310\\lib\\site-packages (from packaging->datasets>=1.6.0->happytransformer) (3.0.6)\n",
      "Requirement already satisfied: certifi>=2017.4.17 in c:\\users\\nihar\\appdata\\local\\programs\\python\\python310\\lib\\site-packages (from requests>=2.19.0->datasets>=1.6.0->happytransformer) (2021.10.8)\n",
      "Requirement already satisfied: urllib3<1.27,>=1.21.1 in c:\\users\\nihar\\appdata\\local\\programs\\python\\python310\\lib\\site-packages (from requests>=2.19.0->datasets>=1.6.0->happytransformer) (1.26.8)\n",
      "Requirement already satisfied: idna<4,>=2.5 in c:\\users\\nihar\\appdata\\local\\programs\\python\\python310\\lib\\site-packages (from requests>=2.19.0->datasets>=1.6.0->happytransformer) (3.3)\n",
      "Requirement already satisfied: pytz>=2017.3 in c:\\users\\nihar\\appdata\\local\\programs\\python\\python310\\lib\\site-packages (from pandas->datasets>=1.6.0->happytransformer) (2021.3)\n",
      "Requirement already satisfied: python-dateutil>=2.7.3 in c:\\users\\nihar\\appdata\\local\\programs\\python\\python310\\lib\\site-packages (from pandas->datasets>=1.6.0->happytransformer) (2.8.2)\n",
      "Requirement already satisfied: six in c:\\users\\nihar\\appdata\\local\\programs\\python\\python310\\lib\\site-packages (from sacremoses->transformers>=4.4.0->happytransformer) (1.16.0)\n",
      "Requirement already satisfied: click in c:\\users\\nihar\\appdata\\local\\programs\\python\\python310\\lib\\site-packages (from sacremoses->transformers>=4.4.0->happytransformer) (8.0.3)\n",
      "Requirement already satisfied: joblib in c:\\users\\nihar\\appdata\\local\\programs\\python\\python310\\lib\\site-packages (from sacremoses->transformers>=4.4.0->happytransformer) (1.1.0)\n",
      "Installing collected packages: xxhash, pyarrow, multidict, fsspec, frozenlist, dill, async-timeout, yarl, responses, multiprocess, aiosignal, aiohttp, datasets, happytransformer\n",
      "Successfully installed aiohttp-3.8.1 aiosignal-1.2.0 async-timeout-4.0.2 datasets-2.4.0 dill-0.3.5.1 frozenlist-1.3.1 fsspec-2022.8.2 happytransformer-2.4.1 multidict-6.0.2 multiprocess-0.70.13 pyarrow-9.0.0 responses-0.18.0 xxhash-3.0.0 yarl-1.8.1\n"
     ]
    }
   ],
   "source": [
    "!pip install happytransformer"
   ]
  },
  {
   "cell_type": "code",
   "execution_count": 2,
   "id": "3cebaab2",
   "metadata": {},
   "outputs": [
    {
     "data": {
      "application/vnd.jupyter.widget-view+json": {
       "model_id": "352cbe51104744a7b1d056954868d2a2",
       "version_major": 2,
       "version_minor": 0
      },
      "text/plain": [
       "Downloading:   0%|          | 0.00/1.38k [00:00<?, ?B/s]"
      ]
     },
     "metadata": {},
     "output_type": "display_data"
    },
    {
     "data": {
      "application/vnd.jupyter.widget-view+json": {
       "model_id": "00806a18a6ff447f81d26925faed102d",
       "version_major": 2,
       "version_minor": 0
      },
      "text/plain": [
       "Downloading:   0%|          | 0.00/850M [00:00<?, ?B/s]"
      ]
     },
     "metadata": {},
     "output_type": "display_data"
    },
    {
     "data": {
      "application/vnd.jupyter.widget-view+json": {
       "model_id": "52e5837012044b12978e9b84a7e4168c",
       "version_major": 2,
       "version_minor": 0
      },
      "text/plain": [
       "Downloading:   0%|          | 0.00/1.88k [00:00<?, ?B/s]"
      ]
     },
     "metadata": {},
     "output_type": "display_data"
    },
    {
     "data": {
      "application/vnd.jupyter.widget-view+json": {
       "model_id": "08c374cc10d54f96b82a29c5c9f0341c",
       "version_major": 2,
       "version_minor": 0
      },
      "text/plain": [
       "Downloading:   0%|          | 0.00/773k [00:00<?, ?B/s]"
      ]
     },
     "metadata": {},
     "output_type": "display_data"
    },
    {
     "data": {
      "application/vnd.jupyter.widget-view+json": {
       "model_id": "0acc59ce42a8403b8fffc28038a8b502",
       "version_major": 2,
       "version_minor": 0
      },
      "text/plain": [
       "Downloading:   0%|          | 0.00/1.32M [00:00<?, ?B/s]"
      ]
     },
     "metadata": {},
     "output_type": "display_data"
    },
    {
     "data": {
      "application/vnd.jupyter.widget-view+json": {
       "model_id": "6c42000e7ff0407098f326573ecfacb2",
       "version_major": 2,
       "version_minor": 0
      },
      "text/plain": [
       "Downloading:   0%|          | 0.00/1.74k [00:00<?, ?B/s]"
      ]
     },
     "metadata": {},
     "output_type": "display_data"
    },
    {
     "name": "stderr",
     "output_type": "stream",
     "text": [
      "09/19/2022 18:26:16 - INFO - happytransformer.happy_transformer -   Using model: cpu\n"
     ]
    },
    {
     "name": "stdout",
     "output_type": "stream",
     "text": [
      "This sentence has bad grammar.\n"
     ]
    }
   ],
   "source": [
    "from happytransformer import HappyTextToText, TTSettings\n",
    "\n",
    "happy_tt = HappyTextToText(\"T5\", \"vennify/t5-base-grammar-correction\")\n",
    "\n",
    "args = TTSettings(num_beams=5, min_length=1)\n",
    "\n",
    "# Add the prefix \"grammar: \" before each input \n",
    "result = happy_tt.generate_text(\"grammar: This sentences has has bads grammar.\", args=args)\n",
    "\n",
    "print(result.text)"
   ]
  },
  {
   "cell_type": "code",
   "execution_count": 6,
   "id": "cd31e25c",
   "metadata": {},
   "outputs": [
    {
     "name": "stdout",
     "output_type": "stream",
     "text": [
      "Doing bully good is not good.\n"
     ]
    }
   ],
   "source": [
    "result = happy_tt.generate_text(\"Doing bully good not\", args=args)\n",
    "\n",
    "print(result.text)"
   ]
  },
  {
   "cell_type": "code",
   "execution_count": 10,
   "id": "47d8c4f7",
   "metadata": {},
   "outputs": [
    {
     "data": {
      "text/plain": [
       "6"
      ]
     },
     "execution_count": 10,
     "metadata": {},
     "output_type": "execute_result"
    }
   ],
   "source": [
    "len(result.text.split())\n"
   ]
  },
  {
   "cell_type": "code",
   "execution_count": null,
   "id": "5a18f592",
   "metadata": {},
   "outputs": [],
   "source": []
  }
 ],
 "metadata": {
  "kernelspec": {
   "display_name": "Python 3 (ipykernel)",
   "language": "python",
   "name": "python3"
  },
  "language_info": {
   "codemirror_mode": {
    "name": "ipython",
    "version": 3
   },
   "file_extension": ".py",
   "mimetype": "text/x-python",
   "name": "python",
   "nbconvert_exporter": "python",
   "pygments_lexer": "ipython3",
   "version": "3.10.1"
  }
 },
 "nbformat": 4,
 "nbformat_minor": 5
}
