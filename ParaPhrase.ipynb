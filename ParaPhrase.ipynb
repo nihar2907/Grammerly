{
 "cells": [
  {
   "cell_type": "code",
   "execution_count": 1,
   "id": "737bdd53",
   "metadata": {},
   "outputs": [],
   "source": [
    "import torch\n",
    "from transformers import PegasusForConditionalGeneration, PegasusTokenizer\n",
    "model_name = 'tuner007/pegasus_paraphrase'\n",
    "torch_device = 'cuda' if torch.cuda.is_available() else 'cpu'\n",
    "tokenizer = PegasusTokenizer.from_pretrained(model_name)\n",
    "model = PegasusForConditionalGeneration.from_pretrained(model_name).to(torch_device)\n",
    "\n",
    "def get_response(input_text,num_return_sequences):\n",
    "  batch = tokenizer([input_text],truncation=True,padding='longest',max_length=60, return_tensors=\"pt\").to(torch_device)\n",
    "  translated = model.generate(**batch,max_length=60,num_beams=num_beams, num_return_sequences=num_return_sequences, temperature=1.5)\n",
    "  tgt_text = tokenizer.batch_decode(translated, skip_special_tokens=True)\n",
    "  return tgt_text\n"
   ]
  },
  {
   "cell_type": "code",
   "execution_count": 3,
   "id": "d03d4d4a",
   "metadata": {},
   "outputs": [
    {
     "data": {
      "text/plain": [
       "['Although we can use a standard decoder for our task, there is a better approach for solving this task given that our grammatical errors only span a fixed subdomainm.']"
      ]
     },
     "execution_count": 3,
     "metadata": {},
     "output_type": "execute_result"
    }
   ],
   "source": [
    "def get_response(input_text,num_return_sequences):\n",
    "  batch = tokenizer([input_text],truncation=True,padding='longest',max_length=60, return_tensors=\"pt\").to(torch_device)\n",
    "  translated = model.generate(**batch,max_length=60,num_beams=100, num_return_sequences=num_return_sequences, temperature=1.5)\n",
    "  tgt_text = tokenizer.batch_decode(translated, skip_special_tokens=True)\n",
    "  return tgt_text\n",
    "\n",
    "get_response('''Although we can use a standard decoder for our task, there is a better approach for solving this task \n",
    "             Given that our grammatical errors only span a fixed subdomainm we can configure our decoder to handle text in such a way that it all tokens of the sequence should exist in the input sample or a set of corrective tokens \n",
    "             The corrective set is provided in the provided during the training This prior is carried out through a modification to the seq2seq model's \n",
    "             decoding loop in addition to a post-processing step that resolves out-of-vocabulary (OOV) tokens by a process known as biased \n",
    "             decoding: Biased decoding is used to restrict the decoding such that it only ever chooses tokens from the input sequence or \n",
    "             corrective token set, the code applies a binary mask to the model's \n",
    "             logits prior to extracting the prediction to be fed into the next time step.\n",
    "             Note that this logic is not used during training, as this would only serve to eliminate potentially useful signal \n",
    "             from the model.''',1 )"
   ]
  },
  {
   "cell_type": "code",
   "execution_count": null,
   "id": "b83eb216",
   "metadata": {},
   "outputs": [],
   "source": []
  }
 ],
 "metadata": {
  "kernelspec": {
   "display_name": "Python 3 (ipykernel)",
   "language": "python",
   "name": "python3"
  },
  "language_info": {
   "codemirror_mode": {
    "name": "ipython",
    "version": 3
   },
   "file_extension": ".py",
   "mimetype": "text/x-python",
   "name": "python",
   "nbconvert_exporter": "python",
   "pygments_lexer": "ipython3",
   "version": "3.10.1"
  }
 },
 "nbformat": 4,
 "nbformat_minor": 5
}
